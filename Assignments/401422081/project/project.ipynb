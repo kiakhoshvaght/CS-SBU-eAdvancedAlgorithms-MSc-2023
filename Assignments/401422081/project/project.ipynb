{
 "cells": [
  {
   "attachments": {},
   "cell_type": "markdown",
   "metadata": {},
   "source": [
    "در ابتدا لایبرری های مورد نیاز را وارد میکنیم\n",
    "پاندا برای خواندن فایل سی‌اس‌وی\n",
    "پالپ برای حل برنامه ریزی خطی\n",
    "و وارنینگ برای عدم نمایش پیام های هشدار\n",
    "\n",
    "سپس یکسری ورودی از کاربر میگیریم تا بی‌ام‌آر وی را حساب کنیم و از روی آن مقدار کالری مورد نیاز کاربر برای یک روز را حساب کنیم تا به اندازه آن به کاربر غذا پیشنهاد دهیم\n",
    "مقادیر ورودی بصورت هارد کد وارد شده اند ولی در قسمت کامنت جلوی آن امکان گرفتن ورودی از اینپوت پیاده سازی شده"
   ]
  },
  {
   "cell_type": "code",
   "execution_count": null,
   "metadata": {},
   "outputs": [
    {
     "ename": "",
     "evalue": "",
     "output_type": "error",
     "traceback": [
      "\u001b[1;31mThe kernel failed to start due to the missing module '_sqlite3'. Consider installing this module.\n",
      "\u001b[1;31mClick <a href='https://aka.ms/kernelFailuresMissingModule'>here</a> for more info."
     ]
    }
   ],
   "source": [
    "# Import all classes of PuLP module\n",
    "from pulp import *\n",
    "import pulp as pl\n",
    "import warnings\n",
    "warnings.simplefilter(action='ignore')\n",
    "import pandas\n",
    "\n",
    "userGender = 'm' #input('Are you male(m) or female(f)?')\n",
    "userWeight = 80 #float(input('Please input your weight:'))\n",
    "userActivity = '2' #input('Please input your daily activity from 1(office job or studying) to 3(labor or professional athlete)?')\n",
    "userBodyFatPercentFactor = 0.95 #Average due to inability to measure\n",
    "leanFactor = 0.9 #Average for the sake of simplicity\n",
    "userGenderFactor = float(0.9 if userGender == 'f' else 1)\n",
    "userActivityFactor = float(1.3 if userActivity == '1' else 1.65 if userActivity == '2' else 2)\n",
    "userBMR = userWeight * userGenderFactor * 24 * userBodyFatPercentFactor \n",
    "userDailyCaloriesNeeded = userBMR * userActivityFactor\n",
    "print(f'Your (Approximate) BMR is {userBMR} and you need {userDailyCaloriesNeeded} calories daily')\n",
    "print(f'These are some foods you can take for today:')\n"
   ]
  },
  {
   "attachments": {},
   "cell_type": "markdown",
   "metadata": {},
   "source": [
    "در قسمت بعد توسط کتابخانه پاندا فایل دیتای پروژه خوانده می‌شود و در خط قبل آن ست می‌شود که همه سطر ها خوانده شود"
   ]
  },
  {
   "cell_type": "code",
   "execution_count": null,
   "metadata": {},
   "outputs": [],
   "source": [
    "\n",
    "pandas.set_option('display.max_rows', None)\n",
    "foods = pandas.read_csv('./USDA.csv') #fdc_id, description, food_category_id "
   ]
  },
  {
   "attachments": {},
   "cell_type": "markdown",
   "metadata": {},
   "source": [
    "سپس در قسمت بعد عملیات تمیز کردن داده ها انجام می‌شود به این صورت که اگر داده ای با کالری ۰ وجود دارد حذف می‌شود چون باعث خطا در محاسبات برنامه ریزی خطی می شود"
   ]
  },
  {
   "cell_type": "code",
   "execution_count": null,
   "metadata": {},
   "outputs": [],
   "source": [
    "\n",
    "cleanedData = []\n",
    "for i in range(0,int(len(foods)/10)):\n",
    "    foodId = foods.iloc[i]['ID']\n",
    "    foodDescription = foods.iloc[i]['Description']\n",
    "    calories = foods.iloc[i]['Calories']\n",
    "    if(calories != 0):\n",
    "        cleanedData.append({'ID': foodId, 'Description':foodDescription, 'Calories': calories})\n",
    "\n",
    "print(len(cleanedData))\n",
    "\n"
   ]
  },
  {
   "attachments": {},
   "cell_type": "markdown",
   "metadata": {},
   "source": [
    "در قسمت بعد مساله برنامه ریزی خطی تعریف و حل می‌شود\n",
    "به این صورت که متغیر هایی از جنس اینتیجر و با دامنه بین ۰ و ۱ تعریف می‌وشد\n",
    "سپس به این متغیر ها ضریب نسبت داده می‌شود که این متغیر ها در ضریبشان جمعشان باید مساوی مقدار کالری روزانه بشود\n",
    "تا حاصل برابر یک برنامه غذایی روزانه شود"
   ]
  },
  {
   "cell_type": "code",
   "execution_count": null,
   "metadata": {},
   "outputs": [],
   "source": [
    "\n",
    "problem = LpProblem('Diet Problem', LpMaximize)\n",
    "\n",
    "x = [] #Initialize objective variables\n",
    "xCoefficients = []\n",
    "\n",
    "\n",
    "for i in range(0,len(cleanedData)):\n",
    "    x.append(LpVariable(name= str(cleanedData[i]['ID']), upBound=1, lowBound=0, cat=LpInteger))\n",
    "    xCoefficients.append(cleanedData[i]['Calories'])\n",
    "\n",
    "problem += lpSum(x[i] * xCoefficients[i] for i in range(0, len(x)))\n",
    "problem += lpSum(x[i] * xCoefficients[i] for i in range(0, len(x))) <= userDailyCaloriesNeeded\n",
    "\n",
    "problem.solve()\n"
   ]
  },
  {
   "attachments": {},
   "cell_type": "markdown",
   "metadata": {},
   "source": [
    "بعد از حل حالا نیاز داریم ببینیم کدام متغیر ها یا غذا ها مقدارشان ۱ شده ینی انتخاب شده اند\n",
    "سپس با آیدی که به اسم متغیر ها اختصاص داده بودیم نام غذا ها را از فایل میخوانیم و به کاربر نشان می‌دهیم"
   ]
  },
  {
   "cell_type": "code",
   "execution_count": null,
   "metadata": {},
   "outputs": [],
   "source": [
    "\n",
    "for v in problem.variables():\n",
    "    if(v.varValue == 1):\n",
    "        # print(f'{v.name}')\n",
    "        food = foods.query(f'ID == {v.name}')\n",
    "        print(str(food['Description'].values) + '  ' + str(food['Calories'].values))"
   ]
  },
  {
   "attachments": {},
   "cell_type": "markdown",
   "metadata": {},
   "source": [
    "اگر این فایل به درستی اجرا نشد لطفا با پایتون ورژن ۳ به بالا فایل \n",
    "project.py\n",
    "را اجرا کنید"
   ]
  }
 ],
 "metadata": {
  "kernelspec": {
   "display_name": "Python 3",
   "language": "python",
   "name": "python3"
  },
  "language_info": {
   "name": "python",
   "version": "3.9.1"
  },
  "orig_nbformat": 4
 },
 "nbformat": 4,
 "nbformat_minor": 2
}
